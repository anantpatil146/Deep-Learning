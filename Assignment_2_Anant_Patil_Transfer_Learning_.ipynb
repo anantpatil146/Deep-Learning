{
  "cells": [
    {
      "cell_type": "markdown",
      "metadata": {
        "id": "view-in-github",
        "colab_type": "text"
      },
      "source": [
        "<a href=\"https://colab.research.google.com/github/anantpatil146/DeepLearning-Practical-/blob/main/Assignment_2_Anant_Patil_Transfer_Learning_.ipynb\" target=\"_parent\"><img src=\"https://colab.research.google.com/assets/colab-badge.svg\" alt=\"Open In Colab\"/></a>"
      ]
    },
    {
      "cell_type": "markdown",
      "metadata": {
        "id": "KRS_r90YMbta"
      },
      "source": [
        "# Google Colab Lab Assignment -Pretrained Modle\n",
        "\n",
        "**Course Name:** Deep Learning\n",
        "\n",
        "**Lab Title:** Research Paper Implementation with Pre-trained Model(Handwritten Digit Recognition of MNIST dataset using Deep Learning state-of-the-art Artificial Neural Network (ANN) and Convolutional Neural Network (CNN))\n",
        "\n",
        "**Student Name:** Anant A Patil\n",
        "\n",
        "**Student Prn:** 202302040003\n",
        "\n",
        "**Date of Submission:**  24-2-2025\n",
        "\n",
        "\n",
        "**Research Paper Study and Implementation**\n",
        "\n",
        "**Instructions:**\n",
        "\n",
        "1. Identify a research paper that utilizes a pre-trained model for a specific\n",
        "task.\n",
        "\n",
        "2. Study the methodology, dataset, and model used in the research paper.\n",
        "\n",
        "3. Implement the approach described in the research paper using the pre-trained model mentioned.\n",
        "\n",
        "4. Compare your implementation results with the findings from the research paper.\n"
      ]
    },
    {
      "cell_type": "markdown",
      "metadata": {
        "id": "x1bukTjpNEze"
      },
      "source": [
        "**Objective**\n",
        "1.   Study a research paper utilizing a pre-trained model.\n",
        "2.   Reproduce the model implementation using the dataset and methodology from the research paper.\n",
        "3.   Fine-tune the pre-trained model and optimize hyperparameters.\n",
        "3.   Evaluate and compare model performance with the original research paper results.\n",
        "\n",
        "\n",
        "\n",
        "\n",
        "\n",
        "\n",
        "\n"
      ]
    },
    {
      "cell_type": "markdown",
      "metadata": {
        "id": "MD4ComqSNYGw"
      },
      "source": [
        "**Task 1: Research Paper Selection and Dataset Preparation (2 hours)**\n",
        "\n",
        "**Instructions:**\n",
        "\n",
        "1. Select a research paper that applies a pre-trained model (e.g., VGG, ResNet, EfficientNet, etc.).\n",
        "\n",
        "2. Identify the dataset used in the research paper and obtain or create a similar dataset.(**Mention Dataset Link and Description**)\n",
        "\n",
        "3. Perform necessary preprocessing steps:\n",
        "\n",
        " Resize images to match the model input dimensions.\n",
        "\n",
        " Apply data augmentation techniques if applicable.\n",
        "\n",
        "4. Split the dataset into training, validation, and testing sets."
      ]
    },
    {
      "cell_type": "code",
      "execution_count": null,
      "metadata": {
        "colab": {
          "base_uri": "https://localhost:8080/",
          "height": 344
        },
        "id": "b85tIhfNNDlo",
        "outputId": "6742a60e-8333-4ef7-9484-b76afa288e61"
      },
      "outputs": [
        {
          "name": "stdout",
          "output_type": "stream",
          "text": [
            "Downloading data from https://storage.googleapis.com/tensorflow/tf-keras-datasets/mnist.npz\n",
            "\u001b[1m11490434/11490434\u001b[0m \u001b[32m━━━━━━━━━━━━━━━━━━━━\u001b[0m\u001b[37m\u001b[0m \u001b[1m1s\u001b[0m 0us/step\n"
          ]
        },
        {
          "data": {
            "image/png": "[encoded data removed]",
            "text/plain": [
              "<Figure size 640x480 with 2 Axes>"
            ]
          },
          "metadata": {},
          "output_type": "display_data"
        }
      ],
      "source": [
        "from tensorflow.keras.datasets import mnist\n",
        "from tensorflow.keras.utils import to_categorical\n",
        "import tensorflow as tf\n",
        "import numpy as np\n",
        "from sklearn.model_selection import train_test_split\n",
        "\n",
        "# Load MNIST dataset\n",
        "(train_images, train_labels), (test_images, test_labels) = mnist.load_data()\n",
        "\n",
        "# Expand grayscale images to 3 channels (since MNIST is originally 1 channel)\n",
        "train_images = np.stack([train_images] * 3, axis=-1) / 255.0\n",
        "test_images = np.stack([test_images] * 3, axis=-1) / 255.0\n",
        "\n",
        "# Resize images to 32x32 to match pre-trained model input (e.g., VGG16)\n",
        "train_images = tf.image.resize(train_images, [32, 32])\n",
        "test_images = tf.image.resize(test_images, [32, 32])\n",
        "\n",
        "# Convert labels to one-hot encoding\n",
        "train_labels = to_categorical(train_labels, 10)\n",
        "test_labels = to_categorical(test_labels, 10)\n",
        "\n",
        "# Split train set into training and validation sets (80% train, 10% validation, 10% test)\n",
        "train_images, val_images, train_labels, val_labels = train_test_split(\n",
        "    train_images.numpy(), train_labels, test_size=0.1, random_state=42\n",
        ")\n",
        "\n",
        "# Data Augmentation (Optional)\n",
        "data_augmentation = tf.keras.Sequential([\n",
        "    tf.keras.layers.RandomFlip(\"horizontal\"),  # Flip images horizontally\n",
        "    tf.keras.layers.RandomRotation(0.1),       # Rotate images slightly\n",
        "    tf.keras.layers.RandomZoom(0.1)            # Apply random zoom\n",
        "])\n",
        "\n",
        "# Example augmentation on a sample image\n",
        "import matplotlib.pyplot as plt\n",
        "\n",
        "sample_image = train_images[0]\n",
        "augmented_image = data_augmentation(tf.expand_dims(sample_image, axis=0))\n",
        "\n",
        "plt.subplot(1, 2, 1)\n",
        "plt.title(\"Original Image\")\n",
        "plt.imshow(train_images[0])\n",
        "\n",
        "plt.subplot(1, 2, 2)\n",
        "plt.title(\"Augmented Image\")\n",
        "plt.imshow(augmented_image[0].numpy())\n",
        "\n",
        "plt.show()\n"
      ]
    },
    {
      "cell_type": "markdown",
      "metadata": {
        "id": "8ezJvo9rNwsg"
      },
      "source": [
        "**Task 2: Model Implementation and Fine-tuning**\n",
        "\n",
        "**Instructions:**\n",
        "\n",
        "1. Implement the pre-trained model as described in the research paper.\n",
        "\n",
        "2. Visualize feature maps of few layers\n",
        "\n",
        "3. Freeze initial layers and fine-tune the top layers according to the paper's methodology.\n",
        "\n",
        "4. Optimize hyperparameters such as:\n",
        "\n",
        "  Learning rate\n",
        "\n",
        "  Batch size\n",
        "\n",
        "  Number of epochs\n",
        "\n",
        "  Optimizer choice (Adam, SGD, RMSprop, etc.)\n",
        "\n",
        "4. Document any modifications or enhancements made to improve performance."
      ]
    },
    {
      "cell_type": "code",
      "execution_count": null,
      "metadata": {
        "colab": {
          "base_uri": "https://localhost:8080/",
          "height": 1000
        },
        "id": "0U8RIdCPNo3J",
        "outputId": "002e8b70-2b1b-47d9-c63b-1f11e2b5ba4a"
      },
      "outputs": [
        {
          "name": "stderr",
          "output_type": "stream",
          "text": [
            "<ipython-input-4-61243f416687>:9: UserWarning: `input_shape` is undefined or non-square, or `rows` is not in [96, 128, 160, 192, 224]. Weights for input shape (224, 224) will be loaded as the default.\n",
            "  base_model = MobileNetV2(weights='imagenet', include_top=False, input_shape=(32, 32, 3))\n"
          ]
        },
        {
          "name": "stdout",
          "output_type": "stream",
          "text": [
            "Downloading data from https://storage.googleapis.com/tensorflow/keras-applications/mobilenet_v2/mobilenet_v2_weights_tf_dim_ordering_tf_kernels_1.0_224_no_top.h5\n",
            "\u001b[1m9406464/9406464\u001b[0m \u001b[32m━━━━━━━━━━━━━━━━━━━━\u001b[0m\u001b[37m\u001b[0m \u001b[1m0s\u001b[0m 0us/step\n",
            "\n",
            "🔹 Training model with frozen layers...\n",
            "\n",
            "Epoch 1/10\n",
            "\u001b[1m1350/1350\u001b[0m \u001b[32m━━━━━━━━━━━━━━━━━━━━\u001b[0m\u001b[37m\u001b[0m \u001b[1m63s\u001b[0m 42ms/step - accuracy: 0.4334 - loss: 1.8710 - val_accuracy: 0.5859 - val_loss: 1.3420\n",
            "Epoch 2/10\n",
            "\u001b[1m1350/1350\u001b[0m \u001b[32m━━━━━━━━━━━━━━━━━━━━\u001b[0m\u001b[37m\u001b[0m \u001b[1m79s\u001b[0m 40ms/step - accuracy: 0.6009 - loss: 1.2829 - val_accuracy: 0.6277 - val_loss: 1.1753\n",
            "Epoch 3/10\n",
            "\u001b[1m1350/1350\u001b[0m \u001b[32m━━━━━━━━━━━━━━━━━━━━\u001b[0m\u001b[37m\u001b[0m \u001b[1m54s\u001b[0m 40ms/step - accuracy: 0.6310 - loss: 1.1544 - val_accuracy: 0.6435 - val_loss: 1.1025\n",
            "Epoch 4/10\n",
            "\u001b[1m1350/1350\u001b[0m \u001b[32m━━━━━━━━━━━━━━━━━━━━\u001b[0m\u001b[37m\u001b[0m \u001b[1m81s\u001b[0m 39ms/step - accuracy: 0.6435 - loss: 1.0928 - val_accuracy: 0.6521 - val_loss: 1.0621\n",
            "Epoch 5/10\n",
            "\u001b[1m1350/1350\u001b[0m \u001b[32m━━━━━━━━━━━━━━━━━━━━\u001b[0m\u001b[37m\u001b[0m \u001b[1m54s\u001b[0m 40ms/step - accuracy: 0.6581 - loss: 1.0446 - val_accuracy: 0.6562 - val_loss: 1.0372\n",
            "Epoch 6/10\n",
            "\u001b[1m1350/1350\u001b[0m \u001b[32m━━━━━━━━━━━━━━━━━━━━\u001b[0m\u001b[37m\u001b[0m \u001b[1m85s\u001b[0m 42ms/step - accuracy: 0.6558 - loss: 1.0324 - val_accuracy: 0.6600 - val_loss: 1.0198\n",
            "Epoch 7/10\n",
            "\u001b[1m1350/1350\u001b[0m \u001b[32m━━━━━━━━━━━━━━━━━━━━\u001b[0m\u001b[37m\u001b[0m \u001b[1m53s\u001b[0m 39ms/step - accuracy: 0.6639 - loss: 1.0108 - val_accuracy: 0.6618 - val_loss: 1.0095\n",
            "Epoch 8/10\n",
            "\u001b[1m1350/1350\u001b[0m \u001b[32m━━━━━━━━━━━━━━━━━━━━\u001b[0m\u001b[37m\u001b[0m \u001b[1m54s\u001b[0m 40ms/step - accuracy: 0.6650 - loss: 1.0054 - val_accuracy: 0.6656 - val_loss: 0.9998\n",
            "Epoch 9/10\n",
            "\u001b[1m1350/1350\u001b[0m \u001b[32m━━━━━━━━━━━━━━━━━━━━\u001b[0m\u001b[37m\u001b[0m \u001b[1m81s\u001b[0m 39ms/step - accuracy: 0.6686 - loss: 0.9880 - val_accuracy: 0.6662 - val_loss: 0.9934\n",
            "Epoch 10/10\n",
            "\u001b[1m1350/1350\u001b[0m \u001b[32m━━━━━━━━━━━━━━━━━━━━\u001b[0m\u001b[37m\u001b[0m \u001b[1m83s\u001b[0m 40ms/step - accuracy: 0.6667 - loss: 0.9885 - val_accuracy: 0.6671 - val_loss: 0.9877\n",
            "\u001b[1m1/1\u001b[0m \u001b[32m━━━━━━━━━━━━━━━━━━━━\u001b[0m\u001b[37m\u001b[0m \u001b[1m0s\u001b[0m 131ms/step\n"
          ]
        },
        {
          "data": {
            "image/png": "[encoded data removed]",
            "text/plain": [
              "<Figure size 800x400 with 6 Axes>"
            ]
          },
          "metadata": {},
          "output_type": "display_data"
        },
        {
          "data": {
            "image/png": "[encoded data removed]",
            "text/plain": [
              "<Figure size 800x400 with 6 Axes>"
            ]
          },
          "metadata": {},
          "output_type": "display_data"
        },
        {
          "data": {
            "image/png": "[encoded data removed]",
            "text/plain": [
              "<Figure size 800x400 with 6 Axes>"
            ]
          },
          "metadata": {},
          "output_type": "display_data"
        },
        {
          "name": "stdout",
          "output_type": "stream",
          "text": [
            "\n",
            " Fine-tuning model with some layers unfrozen...\n",
            "\n",
            "Epoch 1/5\n",
            "\u001b[1m1350/1350\u001b[0m \u001b[32m━━━━━━━━━━━━━━━━━━━━\u001b[0m\u001b[37m\u001b[0m \u001b[1m174s\u001b[0m 118ms/step - accuracy: 0.2234 - loss: 10.6105 - val_accuracy: 0.1717 - val_loss: 15.3418\n",
            "Epoch 2/5\n",
            "\u001b[1m1350/1350\u001b[0m \u001b[32m━━━━━━━━━━━━━━━━━━━━\u001b[0m\u001b[37m\u001b[0m \u001b[1m219s\u001b[0m 131ms/step - accuracy: 0.4679 - loss: 2.8547 - val_accuracy: 0.2263 - val_loss: 2.6332\n",
            "Epoch 3/5\n",
            "\u001b[1m1350/1350\u001b[0m \u001b[32m━━━━━━━━━━━━━━━━━━━━\u001b[0m\u001b[37m\u001b[0m \u001b[1m196s\u001b[0m 127ms/step - accuracy: 0.5853 - loss: 1.6484 - val_accuracy: 0.5421 - val_loss: 1.4436\n",
            "Epoch 4/5\n",
            "\u001b[1m1350/1350\u001b[0m \u001b[32m━━━━━━━━━━━━━━━━━━━━\u001b[0m\u001b[37m\u001b[0m \u001b[1m203s\u001b[0m 128ms/step - accuracy: 0.6694 - loss: 1.1967 - val_accuracy: 0.7596 - val_loss: 0.8287\n",
            "Epoch 5/5\n",
            "\u001b[1m1350/1350\u001b[0m \u001b[32m━━━━━━━━━━━━━━━━━━━━\u001b[0m\u001b[37m\u001b[0m \u001b[1m183s\u001b[0m 135ms/step - accuracy: 0.7388 - loss: 0.9065 - val_accuracy: 0.8253 - val_loss: 0.6078\n"
          ]
        }
      ],
      "source": [
        "import tensorflow as tf\n",
        "from tensorflow.keras.applications import MobileNetV2\n",
        "from tensorflow.keras.layers import Input, GlobalAveragePooling2D, Dense\n",
        "from tensorflow.keras.models import Model\n",
        "import matplotlib.pyplot as plt\n",
        "import numpy as np\n",
        "\n",
        "# Load Pretrained MobileNetV2 (Without Fully Connected Top Layers)\n",
        "base_model = MobileNetV2(weights='imagenet', include_top=False, input_shape=(32, 32, 3))\n",
        "base_model.trainable = False  # Freeze base model\n",
        "\n",
        "# Custom Model Head\n",
        "inputs = Input(shape=(32, 32, 3))\n",
        "x = base_model(inputs, training=False)  # Keep base model in inference mode\n",
        "x = GlobalAveragePooling2D()(x)\n",
        "outputs = Dense(10, activation='softmax')(x)\n",
        "\n",
        "# Compile Model\n",
        "model = Model(inputs, outputs)\n",
        "model.compile(optimizer='adam', loss='categorical_crossentropy', metrics=['accuracy'])\n",
        "\n",
        "# Train Model (Initial Training Phase)\n",
        "print(\"\\n🔹 Training model with frozen layers...\\n\")\n",
        "history = model.fit(train_images, train_labels, epochs=10, validation_split=0.2, batch_size=32)\n",
        "\n",
        "#  Feature Map Visualization Function\n",
        "def visualize_feature_maps(model, image):\n",
        "    layer_outputs = [layer.output for layer in model.layers if 'conv' in layer.name]  # Get conv layers\n",
        "    feature_map_model = Model(inputs=model.input, outputs=layer_outputs)\n",
        "\n",
        "    # Expand dimensions and preprocess image\n",
        "    image = np.expand_dims(image, axis=0)\n",
        "\n",
        "    feature_maps = feature_map_model.predict(image)\n",
        "\n",
        "    # Plot feature maps from the first few layers\n",
        "    for i in range(min(3, len(feature_maps))):  # Show first 3 conv layers\n",
        "        plt.figure(figsize=(8, 4))\n",
        "        plt.suptitle(f\"Feature Maps from Layer {i+1}\")\n",
        "        for j in range(6):  # Show 6 feature maps per layer\n",
        "            plt.subplot(2, 3, j+1)\n",
        "            plt.imshow(feature_maps[i][0, :, :, j], cmap='viridis')\n",
        "            plt.axis(\"off\")\n",
        "        plt.show()\n",
        "\n",
        "# Test Feature Map Visualization on a Sample Image\n",
        "visualize_feature_maps(base_model, train_images[0])\n",
        "\n",
        "#  Fine-Tuning: Unfreeze Some Layers\n",
        "base_model.trainable = True\n",
        "for layer in base_model.layers[:100]:  # Keep first 100 layers frozen\n",
        "    layer.trainable = False\n",
        "\n",
        "# Compile Model for Fine-Tuning with a Smaller Learning Rate\n",
        "model.compile(optimizer=tf.keras.optimizers.Adam(1e-5), loss='categorical_crossentropy', metrics=['accuracy'])\n",
        "\n",
        "# Fine-Tune Model\n",
        "print(\"\\n Fine-tuning model with some layers unfrozen...\\n\")\n",
        "history_fine = model.fit(train_images, train_labels, epochs=5, validation_split=0.2, batch_size=32)\n"
      ]
    },
    {
      "cell_type": "markdown",
      "metadata": {
        "id": "MNDL5cN0M-xP"
      },
      "source": [
        "**Task 3: Model Evaluation and Performance Comparison**\n",
        "\n",
        "**Instructions:**\n",
        "\n",
        "1. Evaluate the trained model using performance metrics:\n",
        "\n",
        " Accuracy, Precision,Recall, F1-score, Confusion Matrix (for classification tasks)\n",
        "\n",
        "2. Compare the results with those reported in the research paper.\n",
        "\n",
        "3. Identify potential weaknesses and suggest improvements.\n",
        "**Deliverables:**\n",
        "\n",
        "Performance metrics summary (table or chart).\n",
        "\n",
        "Graphs/plots showcasing model accuracy and loss trends.\n",
        "\n",
        "Comparison with research paper results.\n",
        "\n",
        "Discussion on model performance and areas for improvement."
      ]
    },
    {
      "cell_type": "markdown",
      "metadata": {
        "id": "TMBfCupdMYy2"
      },
      "source": [
        "**MobileNet v2**"
      ]
    },
    {
      "cell_type": "code",
      "execution_count": null,
      "metadata": {
        "colab": {
          "base_uri": "https://localhost:8080/",
          "height": 219
        },
        "id": "GJDKxaIdL__E",
        "outputId": "a5665940-874d-44b1-b9c1-a4d7b3306ba5"
      },
      "outputs": [
        {
          "ename": "NameError",
          "evalue": "name 'model' is not defined",
          "output_type": "error",
          "traceback": [
            "\u001b[0;31m---------------------------------------------------------------------------\u001b[0m",
            "\u001b[0;31mNameError\u001b[0m                                 Traceback (most recent call last)",
            "\u001b[0;32m<ipython-input-3-1cd6e103dc4a>\u001b[0m in \u001b[0;36m<cell line: 0>\u001b[0;34m()\u001b[0m\n\u001b[1;32m      5\u001b[0m \u001b[0;34m\u001b[0m\u001b[0m\n\u001b[1;32m      6\u001b[0m \u001b[0;31m# Evaluate the trained model\u001b[0m\u001b[0;34m\u001b[0m\u001b[0;34m\u001b[0m\u001b[0m\n\u001b[0;32m----> 7\u001b[0;31m \u001b[0mloss\u001b[0m\u001b[0;34m,\u001b[0m \u001b[0maccuracy\u001b[0m \u001b[0;34m=\u001b[0m \u001b[0mmodel\u001b[0m\u001b[0;34m.\u001b[0m\u001b[0mevaluate\u001b[0m\u001b[0;34m(\u001b[0m\u001b[0mtest_images\u001b[0m\u001b[0;34m,\u001b[0m \u001b[0mtest_labels\u001b[0m\u001b[0;34m)\u001b[0m\u001b[0;34m\u001b[0m\u001b[0;34m\u001b[0m\u001b[0m\n\u001b[0m\u001b[1;32m      8\u001b[0m \u001b[0mprint\u001b[0m\u001b[0;34m(\u001b[0m\u001b[0;34mf\"\\n Test Loss: {loss:.4f}\"\u001b[0m\u001b[0;34m)\u001b[0m\u001b[0;34m\u001b[0m\u001b[0;34m\u001b[0m\u001b[0m\n\u001b[1;32m      9\u001b[0m \u001b[0mprint\u001b[0m\u001b[0;34m(\u001b[0m\u001b[0;34mf\" Test Accuracy: {accuracy:.4f}\"\u001b[0m\u001b[0;34m)\u001b[0m\u001b[0;34m\u001b[0m\u001b[0;34m\u001b[0m\u001b[0m\n",
            "\u001b[0;31mNameError\u001b[0m: name 'model' is not defined"
          ]
        }
      ],
      "source": [
        "from sklearn.metrics import classification_report, confusion_matrix\n",
        "import seaborn as sns\n",
        "import matplotlib.pyplot as plt\n",
        "import numpy as np\n",
        "\n",
        "# Evaluate the trained model\n",
        "loss, accuracy = model.evaluate(test_images, test_labels)\n",
        "print(f\"\\n Test Loss: {loss:.4f}\")\n",
        "print(f\" Test Accuracy: {accuracy:.4f}\")\n",
        "\n",
        "# Generate predictions\n",
        "test_predictions = model.predict(test_images)\n",
        "test_predictions_classes = np.argmax(test_predictions, axis=1)\n",
        "test_true_classes = np.argmax(test_labels, axis=1)\n",
        "\n",
        "# Compute Performance Metrics\n",
        "report = classification_report(test_true_classes, test_predictions_classes, target_names=[str(i) for i in range(10)])\n",
        "print(\"\\n Classification Report:\\n\", report)\n",
        "\n",
        "#  Confusion Matrix Plot\n",
        "cm = confusion_matrix(test_true_classes, test_predictions_classes)\n",
        "plt.figure(figsize=(8, 6))\n",
        "sns.heatmap(cm, annot=True, fmt='d', cmap='Blues', cbar=False)\n",
        "plt.xlabel('Predicted Label')\n",
        "plt.ylabel('True Label')\n",
        "plt.title('Confusion Matrix')\n",
        "plt.show()\n",
        "\n",
        "#  Accuracy & Loss Trend Visualization\n",
        "def plot_training_history(history):\n",
        "    plt.figure(figsize=(12, 4))\n",
        "\n",
        "    # Accuracy Plot\n",
        "    plt.subplot(1, 2, 1)\n",
        "    plt.plot(history.history['accuracy'], label='Training Accuracy', marker='o')\n",
        "    plt.plot(history.history['val_accuracy'], label='Validation Accuracy', marker='o')\n",
        "    plt.xlabel('Epochs')\n",
        "    plt.ylabel('Accuracy')\n",
        "    plt.legend()\n",
        "    plt.title('Training vs Validation Accuracy')\n",
        "\n",
        "    # Loss Plot\n",
        "    plt.subplot(1, 2, 2)\n",
        "    plt.plot(history.history['loss'], label='Training Loss', marker='o')\n",
        "    plt.plot(history.history['val_loss'], label='Validation Loss', marker='o')\n",
        "    plt.xlabel('Epochs')\n",
        "    plt.ylabel('Loss')\n",
        "    plt.legend()\n",
        "    plt.title('Training vs Validation Loss')\n",
        "\n",
        "    plt.show()\n",
        "\n",
        "# Call the function\n",
        "plot_training_history(history_fine)\n",
        "\n",
        "#  Display Misclassified Samples\n",
        "def display_sample(sample_images, sample_labels, sample_predictions):\n",
        "    fig, axes = plt.subplots(3, 3, figsize=(10, 10))\n",
        "    fig.subplots_adjust(hspace=0.5, wspace=0.5)\n",
        "\n",
        "    for i, ax in enumerate(axes.flat):\n",
        "        ax.imshow(sample_images[i].reshape(32, 32), cmap='gray')\n",
        "        ax.set_xlabel(f\"True: {sample_labels[i]}\\nPredicted: {sample_predictions[i]}\")\n",
        "        ax.set_xticks([])\n",
        "        ax.set_yticks([])\n",
        "\n",
        "    plt.show()\n",
        "\n",
        "# Convert RGB to grayscale for visualization\n",
        "test_images_gray = np.dot(test_images[...,:3], [0.2989, 0.5870, 0.1140])\n",
        "\n",
        "# Select and display some misclassified samples\n",
        "misclassified_indices = np.where(test_predictions_classes != test_true_classes)[0]\n",
        "random_indices = np.random.choice(misclassified_indices, min(9, len(misclassified_indices)), replace=False)\n",
        "\n",
        "sample_images = test_images_gray[random_indices]\n",
        "sample_labels = test_true_classes[random_indices]\n",
        "sample_predictions = test_predictions_classes[random_indices]\n",
        "\n",
        "print(\"\\n Displaying Misclassified Samples:\")\n",
        "display_sample(sample_images, sample_labels, sample_predictions)\n",
        "\n",
        "#  Comparison with Research Paper (Example Table)\n",
        "import pandas as pd\n",
        "\n",
        "comparison_results = pd.DataFrame({\n",
        "    \"Metric\": [\"Test Accuracy\", \"Precision\", \"Recall\", \"F1-Score\"],\n",
        "    \"Our Model\": [f\"{accuracy:.4f}\", \"-\", \"-\", \"-\"],  # Replace with calculated values\n",
        "    \"Research Paper\": [\"0.98 (Example)\", \"-\", \"-\", \"-\"]  # Replace with actual paper results\n",
        "})\n",
        "\n",
        "print(\"\\n🔹 Performance Comparison with Research Paper:\\n\")\n",
        "print(comparison_results)\n",
        "\n",
        "#  Identifying Weaknesses & Suggestions\n",
        "print(\"\\n Model Performance Discussion & Improvements:\\n\")\n",
        "print(\"\"\"\n",
        "1️ **Weaknesses:**\n",
        "   - Lower performance on certain digits due to class imbalance.\n",
        "   - Misclassification in overlapping or distorted images.\n",
        "   - Model might need more data augmentation to generalize better.\n",
        "\n",
        "2️ **Improvements:**\n",
        "   - **Increase Dataset Variability**: Use synthetic augmentation (rotation, shifting, brightness changes).\n",
        "   - **Hyperparameter Tuning**: Experiment with different learning rates and optimizers.\n",
        "   - **Regularization**: Add dropout layers to reduce overfitting.\n",
        "\"\"\")\n"
      ]
    },
    {
      "cell_type": "markdown",
      "metadata": {
        "id": "EW6WLl94Meio"
      },
      "source": [
        "**VGG16 Transfer Learning**"
      ]
    },
    {
      "cell_type": "code",
      "execution_count": null,
      "metadata": {
        "colab": {
          "background_save": true,
          "base_uri": "https://localhost:8080/"
        },
        "id": "QopZ9ZgfMeK-",
        "outputId": "f2e74c89-3b60-4d11-e0a6-d79dd1e4621a"
      },
      "outputs": [
        {
          "name": "stdout",
          "output_type": "stream",
          "text": [
            "\n",
            "🔹 Training VGG16 model with frozen layers...\n",
            "\n",
            "Epoch 1/2\n",
            "\u001b[1m1350/1350\u001b[0m \u001b[32m━━━━━━━━━━━━━━━━━━━━\u001b[0m\u001b[37m\u001b[0m \u001b[1m621s\u001b[0m 459ms/step - accuracy: 0.7009 - loss: 1.1354 - val_accuracy: 0.8879 - val_loss: 0.4305\n",
            "Epoch 2/2\n",
            "\u001b[1m1350/1350\u001b[0m \u001b[32m━━━━━━━━━━━━━━━━━━━━\u001b[0m\u001b[37m\u001b[0m \u001b[1m591s\u001b[0m 436ms/step - accuracy: 0.9028 - loss: 0.3827 - val_accuracy: 0.9189 - val_loss: 0.3056\n",
            "\n",
            "🔹 Fine-tuning VGG16 model...\n",
            "\n",
            "Epoch 1/2\n",
            "\u001b[1m1350/1350\u001b[0m \u001b[32m━━━━━━━━━━━━━━━━━━━━\u001b[0m\u001b[37m\u001b[0m \u001b[1m3690s\u001b[0m 3s/step - accuracy: 0.9676 - loss: 0.1036 - val_accuracy: 0.9836 - val_loss: 0.0559\n",
            "Epoch 2/2\n",
            "\u001b[1m 165/1350\u001b[0m \u001b[32m━━\u001b[0m\u001b[37m━━━━━━━━━━━━━━━━━━\u001b[0m \u001b[1m52:26\u001b[0m 3s/step - accuracy: 0.9881 - loss: 0.0392"
          ]
        }
      ],
      "source": [
        "import tensorflow as tf\n",
        "from tensorflow.keras.applications import VGG16\n",
        "from tensorflow.keras.layers import Input, GlobalAveragePooling2D, Dense\n",
        "from tensorflow.keras.models import Model\n",
        "\n",
        "# Load Pretrained VGG16 (Without Fully Connected Top Layers)\n",
        "base_model_vgg = VGG16(weights='imagenet', include_top=False, input_shape=(32, 32, 3))\n",
        "base_model_vgg.trainable = False  # Freeze base model\n",
        "\n",
        "# Custom Model Head\n",
        "inputs = Input(shape=(32, 32, 3))\n",
        "x = base_model_vgg(inputs, training=False)\n",
        "x = GlobalAveragePooling2D()(x)\n",
        "outputs = Dense(10, activation='softmax')(x)\n",
        "\n",
        "# Compile Model\n",
        "model_vgg = Model(inputs, outputs)\n",
        "model_vgg.compile(optimizer='adam', loss='categorical_crossentropy', metrics=['accuracy'])\n",
        "\n",
        "# Train Model (Feature Extraction Phase)\n",
        "print(\"\\n🔹 Training VGG16 model with frozen layers...\\n\")\n",
        "model_vgg.fit(train_images, train_labels, epochs=10, validation_split=0.2, batch_size=32)\n",
        "\n",
        "# Unfreeze Some Layers for Fine-Tuning\n",
        "base_model_vgg.trainable = True\n",
        "for layer in base_model_vgg.layers[:10]:  # Keep first 10 layers frozen\n",
        "    layer.trainable = False\n",
        "\n",
        "# Recompile Model with Lower Learning Rate\n",
        "model_vgg.compile(optimizer=tf.keras.optimizers.Adam(1e-5), loss='categorical_crossentropy', metrics=['accuracy'])\n",
        "\n",
        "# Fine-Tune Model\n",
        "print(\"\\n🔹 Fine-tuning VGG16 model...\\n\")\n",
        "model_vgg.fit(train_images, train_labels, epochs=5, validation_split=0.2, batch_size=32)\n"
      ]
    },
    {
      "cell_type": "markdown",
      "metadata": {
        "id": "OibbOgqqMmP8"
      },
      "source": []
    },
    {
      "cell_type": "code",
      "execution_count": null,
      "metadata": {
        "id": "w_hxMPD2Ml6g"
      },
      "outputs": [],
      "source": [
        "from tensorflow.keras.applications import ResNet50\n",
        "\n",
        "# Load Pretrained ResNet50 (Without Fully Connected Top Layers)\n",
        "base_model_resnet = ResNet50(weights='imagenet', include_top=False, input_shape=(32, 32, 3))\n",
        "base_model_resnet.trainable = False  # Freeze base model\n",
        "\n",
        "# Custom Model Head\n",
        "inputs = Input(shape=(32, 32, 3))\n",
        "x = base_model_resnet(inputs, training=False)\n",
        "x = GlobalAveragePooling2D()(x)\n",
        "outputs = Dense(10, activation='softmax')(x)\n",
        "\n",
        "# Compile Model\n",
        "model_resnet = Model(inputs, outputs)\n",
        "model_resnet.compile(optimizer='adam', loss='categorical_crossentropy', metrics=['accuracy'])\n",
        "\n",
        "# Train Model (Feature Extraction Phase)\n",
        "print(\"\\n🔹 Training ResNet50 model with frozen layers...\\n\")\n",
        "model_resnet.fit(train_images, train_labels, epochs=5, validation_split=0.2, batch_size=32)\n",
        "\n",
        "# Unfreeze Some Layers for Fine-Tuning\n",
        "base_model_resnet.trainable = True\n",
        "for layer in base_model_resnet.layers[:50]:  # Keep first 50 layers frozen\n",
        "    layer.trainable = False\n",
        "\n",
        "# Recompile Model with Lower Learning Rate\n",
        "model_resnet.compile(optimizer=tf.keras.optimizers.Adam(1e-5), loss='categorical_crossentropy', metrics=['accuracy'])\n",
        "\n",
        "# Fine-Tune Model\n",
        "print(\"\\n🔹 Fine-tuning ResNet50 model...\\n\")\n",
        "model_resnet.fit(train_images, train_labels, epochs=5, validation_split=0.2, batch_size=32)\n"
      ]
    },
    {
      "cell_type": "code",
      "execution_count": null,
      "metadata": {
        "colab": {
          "base_uri": "https://localhost:8080/",
          "height": 878
        },
        "id": "Jx4ZfmUZh-lI",
        "outputId": "f71e165d-a413-4f57-c774-a1031df5d468"
      },
      "outputs": [
        {
          "name": "stdout",
          "output_type": "stream",
          "text": [
            "\n",
            " Displaying Correctly Classified Samples:\n"
          ]
        },
        {
          "data": {
            "image/png": "[encoded data removed]",
            "text/plain": [
              "<Figure size 1000x1000 with 9 Axes>"
            ]
          },
          "metadata": {},
          "output_type": "display_data"
        }
      ],
      "source": [
        "import numpy as np\n",
        "import matplotlib.pyplot as plt\n",
        "\n",
        "def display_correctly_classified(sample_images, sample_labels, sample_predictions):\n",
        "    fig, axes = plt.subplots(3, 3, figsize=(10, 10))\n",
        "    fig.subplots_adjust(hspace=0.5, wspace=0.5)\n",
        "\n",
        "    for i, ax in enumerate(axes.flat):\n",
        "        ax.imshow(sample_images[i].reshape(32, 32), cmap='gray')\n",
        "        ax.set_xlabel(f\"True: {sample_labels[i]}\\nPredicted: {sample_predictions[i]}\")\n",
        "        ax.set_xticks([])\n",
        "        ax.set_yticks([])\n",
        "\n",
        "    plt.show()\n",
        "\n",
        "# Ensure 'np' is defined\n",
        "import numpy as np\n",
        "\n",
        "# Convert RGB to grayscale for visualization\n",
        "test_images_gray = np.dot(test_images[...,:3], [0.2989, 0.5870, 0.1140])\n",
        "\n",
        "# Select and display some correctly classified samples\n",
        "correctly_classified_indices = np.where(test_predictions_classes == test_true_classes)[0]\n",
        "random_indices = np.random.choice(correctly_classified_indices, min(9, len(correctly_classified_indices)), replace=False)\n",
        "\n",
        "sample_images = test_images_gray[random_indices]\n",
        "sample_labels = test_true_classes[random_indices]\n",
        "sample_predictions = test_predictions_classes[random_indices]\n",
        "\n",
        "print(\"\\n Displaying Correctly Classified Samples:\")\n",
        "display_correctly_classified(sample_images, sample_labels, sample_predictions)\n"
      ]
    },
    {
      "cell_type": "markdown",
      "metadata": {
        "id": "ffTHUJy_OeTl"
      },
      "source": [
        "**Conclusion and Result Visulaization**"
      ]
    },
    {
      "cell_type": "markdown",
      "metadata": {
        "id": "24O7V4AmOsF8"
      },
      "source": [
        "**Declaration**\n",
        "\n",
        "I,Anant Patil , confirm that the work submitted in this assignment is my own and has been completed following academic integrity guidelines. The code is uploaded on my GitHub repository account, and the repository link is provided below:\n",
        "\n",
        "GitHub Repository Link: [Insert GitHub Link]\n",
        "\n",
        "Signature:Anant Ambadas Patil"
      ]
    },
    {
      "cell_type": "markdown",
      "metadata": {
        "id": "zioOSgLJOwHM"
      },
      "source": [
        "**Submission Checklist**\n",
        "\n",
        "✔ Research paper details and summary\n",
        "\n",
        "✔ Code file (Python Notebook or Script)\n",
        "\n",
        "✔ Dataset or link to the dataset\n",
        "\n",
        "✔ Visualizations (if applicable)\n",
        "\n",
        "✔ Screenshots of model performance metrics\n",
        "\n",
        "✔ Readme File\n",
        "\n",
        "✔ Comparison with research paper results"
      ]
    }
  ],
  "metadata": {
    "colab": {
      "provenance": [],
      "include_colab_link": true
    },
    "kernelspec": {
      "display_name": "Python 3",
      "name": "python3"
    },
    "language_info": {
      "name": "python"
    }
  },
  "nbformat": 4,
  "nbformat_minor": 0
}